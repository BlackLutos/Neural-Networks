{
 "cells": [
  {
   "cell_type": "code",
   "execution_count": 197,
   "id": "9389abda",
   "metadata": {},
   "outputs": [],
   "source": [
    "import numpy as np"
   ]
  },
  {
   "cell_type": "code",
   "execution_count": 198,
   "id": "51336720",
   "metadata": {},
   "outputs": [],
   "source": [
    "x1 = 0.26\n",
    "x2 = 0.33\n",
    "w1 = 0.1\n",
    "w2 = 0.5\n",
    "w3 = 0.2\n",
    "w4 = 0.4\n",
    "w5 = 0.4\n",
    "w6 = 0.1\n",
    "w7 = 0.1\n",
    "w8 = 0.5\n",
    "w9 = 0.3\n",
    "w10 = 0.2\n",
    "w11 = 0.1\n",
    "w12 = 0.4\n",
    "b1 = 0.3\n",
    "b2 = 0.3\n",
    "b3 = 0.3\n",
    "b4 = 0.7\n",
    "b5 = 0.7"
   ]
  },
  {
   "cell_type": "code",
   "execution_count": 199,
   "id": "a9c1d3de",
   "metadata": {},
   "outputs": [],
   "source": [
    "def ReLU(x):\n",
    "    if x < 0:\n",
    "        return 0\n",
    "    else:\n",
    "        return x"
   ]
  },
  {
   "cell_type": "code",
   "execution_count": 200,
   "id": "15b89649",
   "metadata": {},
   "outputs": [],
   "source": [
    "def softmax(x):\n",
    "    exp_x = np.exp(x)\n",
    "    soft_max = exp_x / np.sum(exp_x)\n",
    "    return soft_max"
   ]
  },
  {
   "cell_type": "code",
   "execution_count": 201,
   "id": "0ef9d229",
   "metadata": {},
   "outputs": [],
   "source": [
    "def Cross_Entroy(y_hat1,y_hat2):\n",
    "    y1 = 1\n",
    "    y2 = 0\n",
    "    ce1 = (y1 * np.log2(y_hat1)) + ((1 - y1) * np.log2(1 - y_hat1))\n",
    "    ce2 = (y2 * np.log2(y_hat2)) + ((1 - y2) * np.log2(1 - y_hat2))\n",
    "    return (1/-2) * (ce1 + ce2)"
   ]
  },
  {
   "cell_type": "code",
   "execution_count": 202,
   "id": "b742d5c8",
   "metadata": {},
   "outputs": [],
   "source": [
    "net_h1 = (x1 * w1) + (x2 * w2) + b1\n",
    "net_h2 = (x1 * w3) + (x2 * w4) + b2\n",
    "net_h3 = (x1 * w5) + (x2 * w6) + b3"
   ]
  },
  {
   "cell_type": "code",
   "execution_count": 203,
   "id": "76202c11",
   "metadata": {},
   "outputs": [],
   "source": [
    "out_h1 = ReLU(net_h1)\n",
    "out_h2 = ReLU(net_h2)\n",
    "out_h3 = ReLU(net_h3)"
   ]
  },
  {
   "cell_type": "code",
   "execution_count": 204,
   "id": "3a077f1b",
   "metadata": {},
   "outputs": [],
   "source": [
    "neto1 = out_h1 * w7 + out_h2 * w8 + out_h3 * w9 + b4\n",
    "neto2 = out_h1 * w10 + out_h2 * w11 + out_h3 * w12 + b5"
   ]
  },
  {
   "cell_type": "code",
   "execution_count": 205,
   "id": "4033eabc",
   "metadata": {},
   "outputs": [],
   "source": [
    "out = softmax([neto1,neto2])\n",
    "out1 = out[0]\n",
    "out2 = out[1]"
   ]
  },
  {
   "cell_type": "code",
   "execution_count": 206,
   "id": "5d77a351",
   "metadata": {},
   "outputs": [],
   "source": [
    "out1 = 0.525\n",
    "out2 = 0.475"
   ]
  },
  {
   "cell_type": "code",
   "execution_count": 207,
   "id": "a5e3674c",
   "metadata": {},
   "outputs": [],
   "source": [
    "loss = Cross_Entroy(out1,out2)"
   ]
  },
  {
   "cell_type": "code",
   "execution_count": 208,
   "id": "a0e2858a",
   "metadata": {},
   "outputs": [
    {
     "data": {
      "text/plain": [
       "0.929610672108602"
      ]
     },
     "execution_count": 208,
     "metadata": {},
     "output_type": "execute_result"
    }
   ],
   "source": [
    "loss"
   ]
  }
 ],
 "metadata": {
  "kernelspec": {
   "display_name": "Python 3 (ipykernel)",
   "language": "python",
   "name": "python3"
  },
  "language_info": {
   "codemirror_mode": {
    "name": "ipython",
    "version": 3
   },
   "file_extension": ".py",
   "mimetype": "text/x-python",
   "name": "python",
   "nbconvert_exporter": "python",
   "pygments_lexer": "ipython3",
   "version": "3.9.7"
  }
 },
 "nbformat": 4,
 "nbformat_minor": 5
}
